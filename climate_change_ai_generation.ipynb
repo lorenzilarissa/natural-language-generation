{
 "cells": [
  {
   "cell_type": "code",
   "execution_count": null,
   "metadata": {},
   "outputs": [],
   "source": [
    "import os\n",
    "from dotenv import load_dotenv\n",
    "import openai"
   ]
  },
  {
   "cell_type": "code",
   "execution_count": null,
   "metadata": {},
   "outputs": [],
   "source": [
    "# Load environment variables from .env file\n",
    "load_dotenv()"
   ]
  },
  {
   "cell_type": "code",
   "execution_count": null,
   "metadata": {},
   "outputs": [],
   "source": [
    "# Read the API key from the environment variable\n",
    "openai.api_key = os.getenv(\"OPENAI_API_KEY\")"
   ]
  },
  {
   "cell_type": "code",
   "execution_count": null,
   "metadata": {},
   "outputs": [],
   "source": [
    "# Define the prompt\n",
    "prompt = \"\"\"\n",
    "Prompt: Climate Change is a pressing issue that requires immediate attention. It is important to raise awareness about its consequences and take action to mitigate its effects. One possible solution is to promote renewable energy sources and reduce greenhouse gas emissions. Another approach is to implement sustainable practices in various industries. By working together and making conscious choices, we can create a more sustainable future for our planet.\n",
    "\n",
    "Topic: Artificial Intelligence\n",
    "\n",
    "Content: Artificial Intelligence (AI) has transformed various aspects of our lives. From healthcare to transportation, AI has the potential to revolutionize industries and improve efficiency. However, it is essential to address ethical considerations and ensure responsible AI development. By prioritizing transparency, fairness, and accountability, we can harness the benefits of AI while minimizing potential risks. Additionally, AI education and awareness are crucial for individuals and organizations to make informed decisions regarding AI adoption.\n",
    "\n",
    "\"\"\""
   ]
  },
  {
   "cell_type": "code",
   "execution_count": null,
   "metadata": {},
   "outputs": [],
   "source": [
    "# Generate content using GPT-3\n",
    "response = openai.Completion.create(\n",
    "    engine=\"text-davinci-003\",\n",
    "    prompt=prompt,\n",
    "    max_tokens=200,\n",
    "    temperature=0.7,\n",
    "    n=5,  # Generate 5 different completions\n",
    ")"
   ]
  },
  {
   "cell_type": "code",
   "execution_count": null,
   "metadata": {},
   "outputs": [],
   "source": [
    "# Print the generated content\n",
    "for completion in response.choices:\n",
    "    generated_content = completion.text.strip()\n",
    "    print(generated_content)\n",
    "    print(\"-----\")"
   ]
  }
 ],
 "metadata": {
  "kernelspec": {
   "display_name": "Python 3",
   "language": "python",
   "name": "python3"
  },
  "language_info": {
   "codemirror_mode": {
    "name": "ipython",
    "version": 3
   },
   "file_extension": ".py",
   "mimetype": "text/x-python",
   "name": "python",
   "nbconvert_exporter": "python",
   "pygments_lexer": "ipython3",
   "version": "3.11.3"
  },
  "orig_nbformat": 4
 },
 "nbformat": 4,
 "nbformat_minor": 2
}
